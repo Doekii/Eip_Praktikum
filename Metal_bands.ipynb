{
 "cells": [
  {
   "cell_type": "code",
   "execution_count": 301,
   "metadata": {
    "pycharm": {
     "is_executing": true
    },
    "scrolled": true
   },
   "outputs": [],
   "source": [
    "import numpy as np\n",
    "import pandas as pd\n",
    "import matplotlib.pyplot as plt"
   ]
  },
  {
   "cell_type": "code",
   "execution_count": 289,
   "metadata": {},
   "outputs": [
    {
     "name": "stdout",
     "output_type": "stream",
     "text": [
      "['Solarize_Light2', '_classic_test_patch', '_mpl-gallery', '_mpl-gallery-nogrid', 'bmh', 'classic', 'dark_background', 'fast', 'fivethirtyeight', 'ggplot', 'grayscale', 'seaborn', 'seaborn-bright', 'seaborn-colorblind', 'seaborn-dark', 'seaborn-dark-palette', 'seaborn-darkgrid', 'seaborn-deep', 'seaborn-muted', 'seaborn-notebook', 'seaborn-paper', 'seaborn-pastel', 'seaborn-poster', 'seaborn-talk', 'seaborn-ticks', 'seaborn-white', 'seaborn-whitegrid', 'tableau-colorblind10']\n"
     ]
    }
   ],
   "source": [
    "print(plt.style.available)"
   ]
  },
  {
   "cell_type": "code",
   "execution_count": 247,
   "metadata": {
    "scrolled": true
   },
   "outputs": [],
   "source": [
    "bands_frame = pd.read_csv(\"metal_bands.csv\",index_col = 0)\n",
    "pd.set_option('display.max_rows', 500)\n",
    "pd.set_option('display.max_columns', 500)\n",
    "pd.set_option('display.width', 150)"
   ]
  },
  {
   "cell_type": "markdown",
   "metadata": {},
   "source": [
    "> Basic data for bands"
   ]
  },
  {
   "cell_type": "code",
   "execution_count": 248,
   "metadata": {},
   "outputs": [
    {
     "name": "stdout",
     "output_type": "stream",
     "text": [
      "Dataframe:\n",
      "     band_name  fans formed          origin split                                             style\n",
      "0  Iron Maiden  4195   1975  United Kingdom     -                   New wave of british heavy,Heavy\n",
      "1        Opeth  4147   1990          Sweden  1990  Extreme progressive,Progressive rock,Progressive\n",
      "2    Metallica  3712   1981             USA     -                             Heavy,Bay area thrash\n",
      "3     Megadeth  3105   1983             USA  1983                            Thrash,Heavy,Hard rock\n",
      "4  Amon Amarth  3054   1988          Sweden     -                                     Melodic death\n",
      "Columns:\n",
      "['band_name' 'fans' 'formed' 'origin' 'split' 'style']\n"
     ]
    }
   ],
   "source": [
    "print(\"Dataframe:\")\n",
    "print(bands_frame.head())\n",
    "print(\"Columns:\")\n",
    "print(bands_frame.columns.values)"
   ]
  },
  {
   "cell_type": "markdown",
   "metadata": {},
   "source": [
    "# Tag 1\n",
    "\n",
    "### Aufgaben:\n",
    "- [x] Pandas installieren\n",
    "- [x] Daten aus Teams runterladen\n",
    "- [x] Mit Hilfe der gegebenen Code Zeilen und Google-Suchen sich mit Pandas und Daten vertraut machen.\n",
    "- [x] Verschiedene Styles gegen Gründungsjahre plotten."
   ]
  },
  {
   "cell_type": "markdown",
   "metadata": {},
   "source": [
    "## Plot with dataframe plot &rarr; multiple styles"
   ]
  },
  {
   "cell_type": "code",
   "execution_count": 285,
   "metadata": {},
   "outputs": [],
   "source": [
    "styles = [\"Black\",\"Grindcore\",\"Heavy\",\"Hard rock\",\"Melodic death\",\"Progressive\"]"
   ]
  },
  {
   "cell_type": "code",
   "execution_count": 295,
   "metadata": {},
   "outputs": [
    {
     "data": {
      "image/png": "[encoded data removed]",
      "text/plain": [
       "<Figure size 720x576 with 1 Axes>"
      ]
     },
     "metadata": {},
     "output_type": "display_data"
    }
   ],
   "source": [
    "style_frame = pd.DataFrame()\n",
    "uniques = bands_frame[\"formed\"].unique()\n",
    "style_frame[\"formed\"] = uniques\n",
    "style_frame = style_frame.set_index(\"formed\")\n",
    "\n",
    "style_dict = {}\n",
    "for which_style in styles:\n",
    "    style_frame[which_style]  = 0 \n",
    "    for index, row in bands_frame.iterrows(): \n",
    "        if which_style in row[\"style\"]:\n",
    "            style_frame.at[row[\"formed\"],which_style] += 1\n",
    "\n",
    "style_frame.sort_index(inplace = True)\n",
    "style_frame.plot( kind='bar', stacked=True,\n",
    "        title='number of new forms based on year related to style',width= 0.8,figsize=(10,8),fontsize=10)\n",
    "plt.style.use(\"seaborn\")\n",
    "plt.grid(color='w', linestyle='solid')\n",
    "plt.xlabel(\"year\",fontsize=14)\n",
    "plt.ylabel(\"n forms\",fontsize=14)\n",
    "\n",
    "plt.show()\n",
    "plt.close()"
   ]
  },
  {
   "cell_type": "code",
   "execution_count": 250,
   "metadata": {},
   "outputs": [
    {
     "name": "stdout",
     "output_type": "stream",
     "text": [
      "        Black  Grindcore  Heavy  Hard rock  Extreme progressive  Melodic death  Progressive  Progressive rock\n",
      "formed                                                                                                       \n",
      "-           0          0      2          0                    0              0            0                 0\n",
      "1964        0          0      1          1                    0              0            0                 0\n",
      "1965        0          0      1          1                    0              0            1                 1\n",
      "1967        0          0      1          3                    0              0            1                 1\n",
      "1968        0          0      5          3                    0              0            2                 1\n"
     ]
    }
   ],
   "source": [
    "print(style_frame.head())"
   ]
  },
  {
   "cell_type": "markdown",
   "metadata": {},
   "source": [
    "## Plot for single style with lists &rarr; single style"
   ]
  },
  {
   "cell_type": "code",
   "execution_count": 275,
   "metadata": {},
   "outputs": [],
   "source": [
    "which_style = \"Heavy\""
   ]
  },
  {
   "cell_type": "code",
   "execution_count": 296,
   "metadata": {},
   "outputs": [
    {
     "data": {
      "image/png": "[encoded data removed]",
      "text/plain": [
       "<Figure size 840x480 with 1 Axes>"
      ]
     },
     "metadata": {},
     "output_type": "display_data"
    }
   ],
   "source": [
    "style_dict = {}\n",
    "for index, row in bands_frame.iterrows():\n",
    "    if which_style in row['style']:\n",
    "        if row[\"formed\"] in style_dict:\n",
    "            style_dict[row[\"formed\"]] += 1\n",
    "        else:\n",
    "            style_dict[row[\"formed\"]] = 1\n",
    "\n",
    "dictionary_items = style_dict.items()\n",
    "sorted_items = sorted(dictionary_items)\n",
    "\n",
    "years, amount_formed = [], []\n",
    "for year,amount in sorted_items:    \n",
    "    years.append(year)\n",
    "    amount_formed.append(amount)\n",
    "\n",
    "plt.figure(figsize=(14,8),dpi=60)\n",
    "plt.style.use(\"seaborn\")\n",
    "plt.grid(color='w', linestyle='solid')\n",
    "plt.bar(years,amount_formed,width = 0.7,edgecolor = \"black\")\n",
    "plt.xticks(rotation=90)\n",
    "plt.show()"
   ]
  },
  {
   "cell_type": "code",
   "execution_count": null,
   "metadata": {
    "scrolled": true
   },
   "outputs": [],
   "source": [
    "\n"
   ]
  },
  {
   "cell_type": "code",
   "execution_count": null,
   "metadata": {
    "scrolled": true
   },
   "outputs": [],
   "source": []
  }
 ],
 "metadata": {
  "kernelspec": {
   "display_name": "Python 3 (ipykernel)",
   "language": "python",
   "name": "python3"
  },
  "language_info": {
   "codemirror_mode": {
    "name": "ipython",
    "version": 3
   },
   "file_extension": ".py",
   "mimetype": "text/x-python",
   "name": "python",
   "nbconvert_exporter": "python",
   "pygments_lexer": "ipython3",
   "version": "3.8.12"
  }
 },
 "nbformat": 4,
 "nbformat_minor": 1
}